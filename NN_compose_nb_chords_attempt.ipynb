{
 "cells": [
  {
   "cell_type": "code",
   "execution_count": null,
   "metadata": {
    "collapsed": true,
    "run_control": {
     "frozen": false,
     "read_only": false
    },
    "scrolled": true
   },
   "outputs": [],
   "source": [
    "import subprocess\n",
    "import os\n",
    "import sys\n",
    "import numpy as np\n",
    "import pandas as pd\n",
    "import random\n",
    "import csv\n",
    "import time\n",
    "from operator import itemgetter\n",
    "import matplotlib.pyplot as plt\n",
    "import seaborn as sns\n",
    "%matplotlib inline\n",
    "plt.style.use(\"seaborn-poster\")"
   ]
  },
  {
   "cell_type": "code",
   "execution_count": null,
   "metadata": {
    "collapsed": true,
    "run_control": {
     "frozen": false,
     "read_only": false
    },
    "scrolled": true
   },
   "outputs": [],
   "source": [
    "class midiFile(object):\n",
    "    def __init__(self,fname):\n",
    "        self.fname = fname\n",
    "        self.oname = os.path.splitext(self.fname)[0] + \"_NNCompose.mid\"\n",
    "        self.my_cols = [\"instrument\", \"timing\", \"cmd\",\"pitchshift\",\"note\",\"velocity\",\"timeSig\"]\n",
    "        self.convertMidToCsv()\n",
    "        self.df = self.convertCsvToDataframe()\n",
    "        self.header = self.df[self.df['cmd'].str.contains(\"Header\")]\n",
    "        self.qn = int(self.header.iloc[0]['velocity'])\n",
    "        self.tempo = int(self.df[self.df['cmd'].str.contains(\"Tempo\")].iloc[0]['pitchshift'])\n",
    "        self.command = self.df[self.df['instrument'] == 1]\n",
    "        self.track2 = self.df[self.df['instrument'] == 2]\n",
    "        self.startTrack = self.track2[self.track2['cmd'].str.contains(\"Start\")]\n",
    "        self.eof = self.df[self.df['cmd'].str.contains(\"End_of_file\")]\n",
    "        self.df = self.df[self.df['cmd'].str.contains(\"Note_on\")]\n",
    "        self.df['note'] = self.df['note'].apply(np.int64)\n",
    "\n",
    "    def forceDataTypes(self,df):\n",
    "        df['instrument'] = df['instrument'].astype(int)\n",
    "        df['timing'] = df['timing'].astype(int)\n",
    "        df['pitchshift'] = df['pitchshift'].astype(int)\n",
    "        df['note'] = df['note'].astype(int)\n",
    "        df['velocity'] = df['velocity'].astype(int)\n",
    "        df['cmd'] = df['cmd'].astype(str)\n",
    "\n",
    "    def convertMidToCsv(self):\n",
    "        basename = os.path.splitext(self.fname)\n",
    "        inp = \"midiIn/\" + str(basename[0]) + \".mid\"\n",
    "        if not os.path.isfile(inp):\n",
    "            print(\"Did not find .mid file, trying .midi!\")\n",
    "            inp = \"midiIn/\" + str(basename[0]) + \".midi\"\n",
    "            if not os.path.isfile(inp):\n",
    "                raise ValueError(\"No MIDI File Found\")\n",
    "        out = \"csv/\" + str(basename[0]) + \".csv\"\n",
    "        cmd = \"midicsv \" + inp + \" >! \" + out \n",
    "        csvCreated = subprocess.Popen(cmd, shell=True)\n",
    "        print(\"Converting to CSV\")\n",
    "        time.sleep(5)\n",
    "\n",
    "    def convertCsvToDataframe(self):\n",
    "        basename = os.path.splitext(self.fname)\n",
    "        inp = \"csv/\" + str(basename[0]) + \".csv\"\n",
    "        return pd.read_csv(inp, names=self.my_cols)\n",
    "\n",
    "    def convertNotesToName(self):\n",
    "        notename = ['C','C#','D','D#','E','F','F#','G','G#','A','A#','B']\n",
    "        #self.df['noteName'] = self.df['note'].apply(lambda x: int(x % 12))\n",
    "        self.df['noteName'] = self.df['note'] #if trying to include octaves)\n",
    "\n",
    "    def convertMidiToMp3(self):\n",
    "        basename = os.path.splitext(self.oname)\n",
    "        inname = \"midiOut/\" + str(basename[0]) + \".mid\"\n",
    "        outname = \"mp3Out/\" + str(basename[0]) + \".mp3\"\n",
    "        cmd = \"timidity -Ow -o - \" + inname + \"| lame - \" + outname\n",
    "        mp3Created = subprocess.Popen(cmd, shell=True)\n",
    "        time.sleep(5)\n",
    "        print(\"Created \", outname)\n",
    "        \n",
    "    def get_trainable_arrays(self, seq_length=10):\n",
    "        data = self.df['note'].values\n",
    "        x = []\n",
    "        y = []\n",
    "        for i in range(seq_length,len(data)):\n",
    "            x.append(data[i-seq_length:i])\n",
    "            y.append(data[i])\n",
    "        print(\"X & Y Correlation:\\n\",x[0],y[0],\"\\nActual Data Correlation:\\n\",data[seq_length-2:seq_length+1])\n",
    "        X = np.reshape(x, (len(x), seq_length, 1))\n",
    "        Y = np.reshape(y, len(y))\n",
    "        return X,Y\n",
    "        \n",
    "    def encode_target(self, y):\n",
    "        n_values = 128\n",
    "        ohe = np.eye(n_values)[y]\n",
    "        return ohe\n",
    "    \n",
    "    def convert_to_midi_format(self, result_notes):\n",
    "        notes = []\n",
    "        currentTime = 0\n",
    "\n",
    "        for ind in result_notes:\n",
    "            beatLength = 3\n",
    "            while beatLength in [3,5,6,7]:\n",
    "                beatLength = random.randint(1,4)\n",
    "            dt = int(self.qn/beatLength)\n",
    "            endtime = currentTime + dt\n",
    "            \n",
    "            for note in ind:\n",
    "                notes.append([2,currentTime, \"Note_on_c\", 2, int(note), 95,False])\n",
    "                notes.append([2,endtime, \"Note_off_c\", 2, int(note), 95, False])\n",
    "            currentTime = endtime\n",
    "        notes.append([2, currentTime, \"End_track\"])\n",
    "        return sorted(notes,key=itemgetter(1))\n",
    "    \n",
    "    def check_valid_entry(self, item):\n",
    "        if type(item) == str:\n",
    "            return True\n",
    "        elif not np.isnan(item):\n",
    "            return True\n",
    "        else:\n",
    "            return False    \n",
    "\n",
    "    def makeMidiOut(self,notes):\n",
    "        basename = os.path.splitext(self.oname)\n",
    "        filename = \"csv/\"+str(basename[0])+\".csv\"\n",
    "        file_order = [self.header,self.command,self.startTrack,notes]\n",
    "        with open(filename, 'w') as f:\n",
    "            for section in file_order:\n",
    "                if not type(section) == list:\n",
    "                    try:\n",
    "                        l = section.values.tolist()\n",
    "                    except AttributeError:\n",
    "                        l = section.tolist()\n",
    "                else:\n",
    "                    l = section\n",
    "                for item in l:\n",
    "                    outstr = \"\"\n",
    "                    \n",
    "                    if len(item) == 3:\n",
    "                        if self.check_valid_entry(item[0]):\n",
    "                            outstr = outstr + str(int(item[0])) + \", \"\n",
    "                        if self.check_valid_entry(item[1]):\n",
    "                            outstr = outstr + str(int(item[1])) + \", \" \n",
    "                        if self.check_valid_entry(item[2]):\n",
    "                            outstr = outstr + str(item[2].lstrip(' ')) + \", \"\n",
    "                    else:\n",
    "                        if self.check_valid_entry(item[0]):\n",
    "                            outstr = outstr + str(int(item[0])) + \", \"\n",
    "                        if self.check_valid_entry(item[1]):\n",
    "                            outstr = outstr + str(int(item[1])) + \", \" \n",
    "                        if self.check_valid_entry(item[2]):\n",
    "                            outstr = outstr + str(item[2].lstrip(' ')) + \", \"\n",
    "                        if self.check_valid_entry(item[3]):\n",
    "                            if type(item[3]) == str:\n",
    "                                outstr = outstr + str(item[3]) + \", \"\n",
    "                            else:\n",
    "                                outstr = outstr + str(int(item[3])) + \", \"\n",
    "                        if self.check_valid_entry(item[4]):\n",
    "                            outstr = outstr + str(int(item[4])) + \", \"\n",
    "                        if self.check_valid_entry(item[5]):\n",
    "                            outstr = outstr + str(int(item[5])) + \", \"\n",
    "                        if self.check_valid_entry(item[6]):\n",
    "                            outstr = outstr + str(int(item[6])) + \", \"\n",
    "                    outstr = outstr.rstrip(', ') + \"\\n\"\n",
    "                    f.write(outstr)\n",
    "            item = self.eof.iloc[0].values\n",
    "            if self.check_valid_entry(item[0]):\n",
    "                outstr = outstr + str(int(item[0])) + \", \"\n",
    "            if self.check_valid_entry(item[1]):\n",
    "                outstr = outstr + str(int(item[1])) + \", \" \n",
    "            if self.check_valid_entry(item[2]):\n",
    "                outstr = outstr + str(item[2].lstrip(' ')) + \", \"\n",
    "            outstr = outstr.rstrip(', ') + \"\\n\"\n",
    "            f.write(outstr)\n",
    "        self.csv_to_midi()\n",
    "    \n",
    "    def csv_to_midi(self):\n",
    "        basename = os.path.splitext(self.oname)\n",
    "        filename = \"csv/\"+str(basename[0])+\".csv\"\n",
    "        out = \"midiOut/\" + str(basename[0]) + \".mid\"\n",
    "        cmd = \"csvmidi \" + filename + \" \" + out \n",
    "        midCreated = subprocess.Popen(cmd, shell=True)\n",
    "        print(\"Converting to MIDI\")\n",
    "        time.sleep(5)"
   ]
  },
  {
   "cell_type": "code",
   "execution_count": null,
   "metadata": {
    "collapsed": false,
    "run_control": {
     "frozen": false,
     "read_only": false
    },
    "scrolled": true
   },
   "outputs": [],
   "source": [
    "# Create first network with Keras\n",
    "from keras.models import Sequential,load_model\n",
    "from keras.layers import Dense, Dropout, Activation, LSTM\n",
    "from keras.utils import np_utils\n",
    "from keras.wrappers.scikit_learn import KerasRegressor\n",
    "from keras.callbacks import ModelCheckpoint\n",
    "#sciKit for pipeline and CV\n",
    "from sklearn.model_selection import cross_val_score\n",
    "from sklearn.model_selection import KFold\n",
    "from sklearn.preprocessing import StandardScaler\n",
    "from sklearn.pipeline import Pipeline\n",
    "\n",
    "class network(object):\n",
    "    def __init__(self, X):\n",
    "        self.model = self.getModel(X)\n",
    "\n",
    "    def getModel(self,X):\n",
    "        # create model\n",
    "        model = Sequential()\n",
    "        model.add(LSTM(400, input_shape=(X.shape[1],X.shape[2]), return_sequences=True))\n",
    "        model.add(LSTM(200, input_shape=(X.shape[1],X.shape[2])))\n",
    "        model.add(Dense(128,activation='softmax'))\n",
    "        model.compile(loss='categorical_crossentropy', optimizer='adam')\n",
    "        return model\n",
    "    \n",
    "    def train(self,x,y,epochs=20,batch_size=5,filepath=\"recent_lstm_model_weights.h5\"):\n",
    "        checkpoint = ModelCheckpoint(filepath, monitor='loss', verbose=1, save_best_only=True, mode='min')\n",
    "        callbacks_list = [checkpoint]\n",
    "        # fit the model\n",
    "        self.model.fit(x, y, epochs=epochs, batch_size=batch_size, callbacks=callbacks_list)\n",
    "        self.model = self.load_best_model(filepath)\n",
    "        return self.model\n",
    "        \n",
    "    def load_best_model(self, filepath=\"recent_lstm_model_weights.h5\"):\n",
    "        return load_model(filepath)"
   ]
  },
  {
   "cell_type": "code",
   "execution_count": null,
   "metadata": {
    "collapsed": false,
    "run_control": {
     "frozen": false,
     "read_only": false
    },
    "scrolled": false
   },
   "outputs": [],
   "source": [
    "import os\n",
    "from midifile import *\n",
    "from neuralnet import *\n",
    "import numpy as np\n",
    "import matplotlib.pyplot as plt\n",
    "import seaborn as sns\n",
    "%matplotlib inline\n",
    "plt.style.use(\"seaborn-poster\")\n",
    "fileNames = [fileName for fileName in os.listdir(\"midiIn\") if 'Bach' in str(fileName)]\n",
    "fileNames"
   ]
  },
  {
   "cell_type": "code",
   "execution_count": null,
   "metadata": {
    "collapsed": false,
    "run_control": {
     "frozen": false,
     "read_only": false
    },
    "scrolled": false
   },
   "outputs": [],
   "source": [
    "####### For Training across all songs in the fileNames list\n",
    "#######\n",
    "\n",
    "# sl = 20\n",
    "# X = np.empty(shape=(10, sl, 1)) # shape[0] doesn't matter to the model\n",
    "# model = network(X)\n",
    "# data_seeds = []\n",
    "# for track in fileNames:\n",
    "#     mf = midiFile(track)\n",
    "#     X,Y = mf.get_trainable_arrays(seq_length=sl)\n",
    "#     data_seed = X[0]\n",
    "#     data_seed = np.reshape(data_seed, (1, sl, 1))\n",
    "#     data_seeds.append(data_seed)\n",
    "#     target = mf.encode_target(Y)\n",
    "#     model.train(X,target,epochs=100,batch_size=5)"
   ]
  },
  {
   "cell_type": "markdown",
   "metadata": {
    "run_control": {
     "frozen": false,
     "read_only": false
    }
   },
   "source": [
    "### Load model and track, setup data"
   ]
  },
  {
   "cell_type": "code",
   "execution_count": null,
   "metadata": {
    "collapsed": false,
    "run_control": {
     "frozen": false,
     "read_only": false
    },
    "scrolled": true
   },
   "outputs": [],
   "source": [
    "sl = 20\n",
    "X = np.empty(shape=(10, sl, 1)) # shape[0] doesn't matter to the model\n",
    "model = network(X).load_best_model()\n",
    "\n",
    "mf = midiFile(fileNames[-1])\n",
    "X,Y = mf.get_trainable_arrays(seq_length=sl)\n",
    "data_seed = X[0]\n",
    "data_seed = np.reshape(data_seed, (1, sl, 1))\n",
    "target = mf.encode_target(Y)"
   ]
  },
  {
   "cell_type": "code",
   "execution_count": null,
   "metadata": {
    "collapsed": false,
    "run_control": {
     "frozen": false,
     "read_only": false
    },
    "scrolled": true
   },
   "outputs": [],
   "source": [
    "pl_results = []\n",
    "results = []\n",
    "for i in range(2000):\n",
    "    if i%500==0:\n",
    "        print(\"Generating point \",i)\n",
    "    data_seed = np.reshape(data_seed, (1, sl, 1))\n",
    "    next_val = model.model.predict(data_seed)\n",
    "    results.append([list(np.where(next_val[0]==x)[0])[0] for x in next_val[0] if x > 0.2])\n",
    "    next_val = np.argmax(next_val)\n",
    "    pl_results.append(next_val)\n",
    "    next_val = np.reshape(next_val,(1))\n",
    "    data_seed = data_seed[0].tolist()\n",
    "    data_seed.append([next_val])\n",
    "    data_seed = data_seed[1:len(data_seed)]"
   ]
  },
  {
   "cell_type": "code",
   "execution_count": null,
   "metadata": {
    "collapsed": true,
    "run_control": {
     "frozen": false,
     "read_only": false
    },
    "scrolled": true
   },
   "outputs": [],
   "source": [
    "train_results = model.model.predict(X)\n",
    "tr_results = []\n",
    "for val in train_results:\n",
    "    tr_results.append(np.argmax(val))"
   ]
  },
  {
   "cell_type": "code",
   "execution_count": null,
   "metadata": {
    "collapsed": true,
    "run_control": {
     "frozen": false,
     "read_only": false
    },
    "scrolled": true
   },
   "outputs": [],
   "source": [
    "preds = model.model.predict(X)\n",
    "tr_results = []\n",
    "plot_results = []\n",
    "for p in preds:\n",
    "    tr_results.append([list(np.where(p==x)[0])[0] for x in p if x > 0.2])\n",
    "    plot_results.append(np.argmax(p))"
   ]
  },
  {
   "cell_type": "code",
   "execution_count": null,
   "metadata": {
    "collapsed": false,
    "run_control": {
     "frozen": false,
     "read_only": false
    },
    "scrolled": true
   },
   "outputs": [],
   "source": [
    "lowx = 0\n",
    "highx = 100\n",
    "plt.plot(np.linspace(0,len(plot_results[lowx:highx]),len(plot_results[lowx:highx])),plot_results[lowx:highx],'b',label=\"Pred\")\n",
    "plt.plot(np.linspace(0,len(Y[lowx:highx]),len(Y[lowx:highx])),Y[lowx:highx],'r',label=\"True\");\n",
    "plt.xlabel(\"Note location in song\")\n",
    "plt.ylabel(\"Location on Keyboard\")\n",
    "plt.title(\"Song map for %s\"%mf.fname)\n",
    "plt.legend()"
   ]
  },
  {
   "cell_type": "code",
   "execution_count": null,
   "metadata": {
    "collapsed": false,
    "run_control": {
     "frozen": false,
     "read_only": false
    },
    "scrolled": false
   },
   "outputs": [],
   "source": [
    "notes = mf.convert_to_midi_format(tr_results)\n",
    "mf.makeMidiOut(notes)"
   ]
  },
  {
   "cell_type": "code",
   "execution_count": null,
   "metadata": {
    "collapsed": false,
    "run_control": {
     "frozen": false,
     "read_only": false
    },
    "scrolled": true
   },
   "outputs": [],
   "source": [
    "mf.convertMidiToMp3()"
   ]
  },
  {
   "cell_type": "code",
   "execution_count": null,
   "metadata": {
    "collapsed": false,
    "run_control": {
     "frozen": false,
     "read_only": false
    },
    "scrolled": true
   },
   "outputs": [],
   "source": [
    "lowx = 0\n",
    "highx = 100\n",
    "data = data_seed\n",
    "plt.plot(np.linspace(0,len(pl_results[lowx:highx]),len(pl_results[lowx:highx]))+sl,pl_results[lowx:highx],'k',label=\"Gen\")\n",
    "plt.plot(np.linspace(0,len(data[0:sl]),len(data[0:sl])),data[0:sl],'r',label=\"Seed\");\n",
    "plt.title(\"Generated Data From Seed\")\n",
    "plt.legend()"
   ]
  },
  {
   "cell_type": "code",
   "execution_count": null,
   "metadata": {
    "collapsed": false,
    "run_control": {
     "frozen": false,
     "read_only": false
    },
    "scrolled": true
   },
   "outputs": [],
   "source": [
    "notes = mf.convert_to_midi_format(results)\n",
    "mf.makeMidiOut(notes)"
   ]
  },
  {
   "cell_type": "code",
   "execution_count": null,
   "metadata": {
    "collapsed": false,
    "run_control": {
     "frozen": false,
     "read_only": false
    },
    "scrolled": true
   },
   "outputs": [],
   "source": [
    "mf.convertMidiToMp3()"
   ]
  },
  {
   "cell_type": "code",
   "execution_count": null,
   "metadata": {
    "collapsed": true,
    "run_control": {
     "frozen": false,
     "read_only": false
    },
    "scrolled": true
   },
   "outputs": [],
   "source": []
  }
 ],
 "metadata": {
  "kernelspec": {
   "display_name": "Python 3",
   "language": "python",
   "name": "python3"
  },
  "language_info": {
   "codemirror_mode": {
    "name": "ipython",
    "version": 3
   },
   "file_extension": ".py",
   "mimetype": "text/x-python",
   "name": "python",
   "nbconvert_exporter": "python",
   "pygments_lexer": "ipython3",
   "version": "3.6.1"
  },
  "latex_envs": {
   "LaTeX_envs_menu_present": true,
   "bibliofile": "biblio.bib",
   "cite_by": "apalike",
   "current_citInitial": 1,
   "eqLabelWithNumbers": true,
   "eqNumInitial": 1,
   "hotkeys": {
    "equation": "Ctrl-E",
    "itemize": "Ctrl-I"
   },
   "labels_anchors": false,
   "latex_user_defs": false,
   "report_style_numbering": false,
   "user_envs_cfg": false
  },
  "toc": {
   "colors": {
    "hover_highlight": "#DAA520",
    "running_highlight": "#FF0000",
    "selected_highlight": "#FFD700"
   },
   "moveMenuLeft": true,
   "nav_menu": {
    "height": "12px",
    "width": "252px"
   },
   "navigate_menu": true,
   "number_sections": true,
   "sideBar": true,
   "threshold": 4,
   "toc_cell": false,
   "toc_section_display": "block",
   "toc_window_display": false
  }
 },
 "nbformat": 4,
 "nbformat_minor": 2
}
